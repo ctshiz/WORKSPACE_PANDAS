{
  "nbformat": 4,
  "nbformat_minor": 0,
  "metadata": {
    "colab": {
      "provenance": [],
      "collapsed_sections": [],
      "authorship_tag": "ABX9TyPGHulo9t1wZ1HTmH9Pqi0A",
      "include_colab_link": true
    },
    "kernelspec": {
      "name": "python3",
      "display_name": "Python 3"
    },
    "language_info": {
      "name": "python"
    }
  },
  "cells": [
    {
      "cell_type": "markdown",
      "metadata": {
        "id": "view-in-github",
        "colab_type": "text"
      },
      "source": [
        "<a href=\"https://colab.research.google.com/github/ctshiz/WORKSPACE_PANDAS/blob/main/Edge_detection_vertical_filter_rev0.ipynb\" target=\"_parent\"><img src=\"https://colab.research.google.com/assets/colab-badge.svg\" alt=\"Open In Colab\"/></a>"
      ]
    },
    {
      "cell_type": "code",
      "execution_count": null,
      "metadata": {
        "id": "Yke7bnAawwmc"
      },
      "outputs": [],
      "source": [
        "#matplotlib inline\n",
        "from PIL import Image\n",
        "import numpy as np\n",
        "import matplotlib.pyplot as plt\n",
        "import scipy.misc as smp\n",
        "import matplotlib.pyplot as plt\n",
        "import numpy as np\n",
        "import matplotlib.image as mpimg\n",
        "import os\n",
        "import scipy.misc as sm\n",
        "import skimage\n",
        "from scipy import ndimage\n",
        "\n",
        "\n",
        "\n",
        "#define the vertical filter\n",
        "vertical_filter = [[-1,-2,-1], [0,0,0], [1,2,1]]\n",
        "\n",
        "#define the horizontal filter\n",
        "horizontal_filter = [[-1,0,1], [-2,0,2], [-1,0,1]]\n",
        "\n",
        "#read in the pinwheel image\n",
        "img = plt.imread(r'C:\\Users\\win10\\Documents\\PERSONNEL\\CODES\\EDGE DETECTION\\canny_edge_detector-master\\faces_imgs\\6.jpg')\n",
        "\n",
        "#get the dimensions of the image\n",
        "n,m,d = img.shape\n",
        "\n",
        "#initialize the edges image\n",
        "edges_img = img.copy()\n",
        "print(edges_img)\n",
        "\n",
        "print(\"---------------------------\")\n",
        "#loop over all pixels in the image\n",
        "for row in range(3, n-2):\n",
        "    for col in range(3, m-2):\n",
        "        \n",
        "        #create little local 3x3 box\n",
        "        local_pixels = img[row-1:row+2, col-1:col+2, 0]\n",
        "        \n",
        "        #apply the vertical filter\n",
        "        vertical_transformed_pixels = vertical_filter*local_pixels\n",
        "        #remap the vertical score\n",
        "        vertical_score = vertical_transformed_pixels.sum()/4\n",
        "        \n",
        "        #apply the horizontal filter\n",
        "        horizontal_transformed_pixels = horizontal_filter*local_pixels\n",
        "        #remap the horizontal score\n",
        "        horizontal_score = horizontal_transformed_pixels.sum()/4\n",
        "        \n",
        "        #combine the horizontal and vertical scores into a total edge score\n",
        "        edge_score = (vertical_score**2 + horizontal_score**2)**.5\n",
        "        \n",
        "        #insert this edge score into the edges image\n",
        "        edges_img[row, col] = [edge_score]*3\n",
        "\n",
        "#remap the values in the 0-1 range in case they went out of bounds\n",
        "edges_img = edges_img/edges_img.max()\n",
        "print(edges_img)\n",
        "plt.imshow(edges_img)\n",
        "plt.show()\n",
        "\n"
      ]
    }
  ]
}